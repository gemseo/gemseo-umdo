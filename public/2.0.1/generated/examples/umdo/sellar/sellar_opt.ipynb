{
  "cells": [
    {
      "cell_type": "code",
      "execution_count": null,
      "metadata": {
        "collapsed": false
      },
      "outputs": [],
      "source": [
        "%matplotlib inline"
      ]
    },
    {
      "cell_type": "markdown",
      "metadata": {},
      "source": [
        "# OPT - Deterministic - Sellar problem.\n"
      ]
    },
    {
      "cell_type": "code",
      "execution_count": null,
      "metadata": {
        "collapsed": false
      },
      "outputs": [],
      "source": [
        "from __future__ import annotations\n\nfrom gemseo import configure_logger\nfrom gemseo.algos.design_space import DesignSpace\nfrom gemseo.core.mdo_scenario import MDOScenario\nfrom gemseo.disciplines.analytic import AnalyticDiscipline\n\nconfigure_logger()"
      ]
    },
    {
      "cell_type": "markdown",
      "metadata": {},
      "source": [
        "Firstly,\nwe instantiate the disciplines of the Sellar problem:\n\n"
      ]
    },
    {
      "cell_type": "code",
      "execution_count": null,
      "metadata": {
        "collapsed": false
      },
      "outputs": [],
      "source": [
        "system = AnalyticDiscipline({\n    \"obj\": \"x**2 + z2 + y1**2 + exp(-y2)\",\n    \"c1\": \"3.16 - y1 ** 2\",\n    \"c2\": \"y2 - 24.0\",\n})\ndisc1 = AnalyticDiscipline({\"y1\": \"(z1**2 + z2 + x - 0.2*y2)**0.5\"})\ndisc2 = AnalyticDiscipline({\"y2\": \"abs(y1) + z1 + z2\"})"
      ]
    },
    {
      "cell_type": "markdown",
      "metadata": {},
      "source": [
        "as well as the design space:\n\n"
      ]
    },
    {
      "cell_type": "code",
      "execution_count": null,
      "metadata": {
        "collapsed": false
      },
      "outputs": [],
      "source": [
        "design_space = DesignSpace()\ndesign_space.add_variable(\"x\", 1, l_b=0.0, u_b=10.0, value=1.0)\ndesign_space.add_variable(\"z1\", 1, l_b=-10, u_b=10.0, value=4.0)\ndesign_space.add_variable(\"z2\", 1, l_b=0.0, u_b=10.0, value=3.0)"
      ]
    },
    {
      "cell_type": "markdown",
      "metadata": {},
      "source": [
        "Then,\nwe build an `MDOScenario`\nto minimize `\"obj\"`:\n\n"
      ]
    },
    {
      "cell_type": "code",
      "execution_count": null,
      "metadata": {
        "collapsed": false
      },
      "outputs": [],
      "source": [
        "scenario = MDOScenario(\n    [system, disc1, disc2],\n    formulation=\"MDF\",\n    objective_name=\"obj\",\n    design_space=design_space,\n)"
      ]
    },
    {
      "cell_type": "markdown",
      "metadata": {},
      "source": [
        "while satisfying inequality constraints related to `\"c_1\"` and `\"c_2\"`:\n\n"
      ]
    },
    {
      "cell_type": "code",
      "execution_count": null,
      "metadata": {
        "collapsed": false
      },
      "outputs": [],
      "source": [
        "scenario.add_constraint(\"c1\", \"ineq\")\nscenario.add_constraint(\"c2\", \"ineq\")"
      ]
    },
    {
      "cell_type": "markdown",
      "metadata": {},
      "source": [
        "and execute it with a gradient-free optimizer:\n\n"
      ]
    },
    {
      "cell_type": "code",
      "execution_count": null,
      "metadata": {
        "collapsed": false
      },
      "outputs": [],
      "source": [
        "scenario.execute({\"algo\": \"NLOPT_COBYLA\", \"max_iter\": 200})"
      ]
    },
    {
      "cell_type": "markdown",
      "metadata": {},
      "source": [
        "Lastly,\nwe can plot the optimization history view:\n\n"
      ]
    },
    {
      "cell_type": "code",
      "execution_count": null,
      "metadata": {
        "collapsed": false
      },
      "outputs": [],
      "source": [
        "scenario.post_process(\"OptHistoryView\", save=True, show=False)"
      ]
    }
  ],
  "metadata": {
    "kernelspec": {
      "display_name": "Python 3",
      "language": "python",
      "name": "python3"
    },
    "language_info": {
      "codemirror_mode": {
        "name": "ipython",
        "version": 3
      },
      "file_extension": ".py",
      "mimetype": "text/x-python",
      "name": "python",
      "nbconvert_exporter": "python",
      "pygments_lexer": "ipython3",
      "version": "3.9.18"
    }
  },
  "nbformat": 4,
  "nbformat_minor": 0
}