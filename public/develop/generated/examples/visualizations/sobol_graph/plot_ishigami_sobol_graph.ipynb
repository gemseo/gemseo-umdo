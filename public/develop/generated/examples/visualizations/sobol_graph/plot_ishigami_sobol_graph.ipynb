{
  "cells": [
    {
      "cell_type": "code",
      "execution_count": null,
      "metadata": {
        "collapsed": false
      },
      "outputs": [],
      "source": [
        "%matplotlib inline"
      ]
    },
    {
      "cell_type": "markdown",
      "metadata": {},
      "source": [
        "# Sobol' graph for the Ishigami use case.\n"
      ]
    },
    {
      "cell_type": "code",
      "execution_count": null,
      "metadata": {
        "collapsed": false
      },
      "outputs": [],
      "source": [
        "from __future__ import annotations\n\nfrom gemseo.problems.uncertainty.ishigami.statistics import SOBOL_1\nfrom gemseo.problems.uncertainty.ishigami.statistics import SOBOL_2\nfrom gemseo.problems.uncertainty.ishigami.statistics import SOBOL_3\nfrom gemseo.problems.uncertainty.ishigami.statistics import SOBOL_12\nfrom gemseo.problems.uncertainty.ishigami.statistics import SOBOL_13\nfrom gemseo.problems.uncertainty.ishigami.statistics import SOBOL_23\nfrom gemseo.problems.uncertainty.ishigami.statistics import TOTAL_SOBOL_1\nfrom gemseo.problems.uncertainty.ishigami.statistics import TOTAL_SOBOL_2\nfrom gemseo.problems.uncertainty.ishigami.statistics import TOTAL_SOBOL_3\n\nfrom gemseo_umdo.visualizations.sobol_graph import SobolGraph"
      ]
    },
    {
      "cell_type": "markdown",
      "metadata": {},
      "source": [
        "First,\nwe define the first-, second- and total-order Sobol' indices\nof the different uncertain variables:\n\n"
      ]
    },
    {
      "cell_type": "code",
      "execution_count": null,
      "metadata": {
        "collapsed": false
      },
      "outputs": [],
      "source": [
        "first_order_indices = {\"X1\": SOBOL_1, \"X2\": SOBOL_2, \"X3\": SOBOL_3}\ntotal_order_indices = {\"X1\": TOTAL_SOBOL_1, \"X2\": TOTAL_SOBOL_2, \"X3\": TOTAL_SOBOL_3}\nsecond_order_indices = {\n    (\"X1\", \"X2\"): SOBOL_12,\n    (\"X1\", \"X3\"): SOBOL_13,\n    (\"X2\", \"X3\"): SOBOL_23,\n}"
      ]
    },
    {
      "cell_type": "markdown",
      "metadata": {},
      "source": [
        "Then,\nwe draw the Sobol' graph:\n\n"
      ]
    },
    {
      "cell_type": "code",
      "execution_count": null,
      "metadata": {
        "collapsed": false
      },
      "outputs": [],
      "source": [
        "sobol_graph = SobolGraph(\n    first_order_indices,\n    second_order_indices=second_order_indices,\n    total_order_indices=total_order_indices,\n)\nsobol_graph"
      ]
    },
    {
      "cell_type": "markdown",
      "metadata": {},
      "source": [
        "Sphinx Gallery and Jupyter Notebook can display `sobol_graph` in the web browser.\nYou can also use `sobol_graph.visualize()`\nto save it on the disk\nor display it with a dedicated program.\n\n"
      ]
    }
  ],
  "metadata": {
    "kernelspec": {
      "display_name": "Python 3",
      "language": "python",
      "name": "python3"
    },
    "language_info": {
      "codemirror_mode": {
        "name": "ipython",
        "version": 3
      },
      "file_extension": ".py",
      "mimetype": "text/x-python",
      "name": "python",
      "nbconvert_exporter": "python",
      "pygments_lexer": "ipython3",
      "version": "3.9.21"
    }
  },
  "nbformat": 4,
  "nbformat_minor": 0
}