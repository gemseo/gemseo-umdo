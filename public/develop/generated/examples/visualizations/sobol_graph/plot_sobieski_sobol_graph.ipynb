{
  "cells": [
    {
      "cell_type": "code",
      "execution_count": null,
      "metadata": {
        "collapsed": false
      },
      "outputs": [],
      "source": [
        "%matplotlib inline"
      ]
    },
    {
      "cell_type": "markdown",
      "metadata": {},
      "source": [
        "# Sobol' graph for the Sobieski's SSBJ use case.\n"
      ]
    },
    {
      "cell_type": "code",
      "execution_count": null,
      "metadata": {
        "collapsed": false
      },
      "outputs": [],
      "source": [
        "from __future__ import annotations\n\nfrom gemseo.algos.design_space import DesignSpace\nfrom gemseo.problems.mdo.sobieski.core.problem import SobieskiProblem\nfrom gemseo.problems.mdo.sobieski.disciplines import SobieskiAerodynamics\nfrom gemseo.problems.mdo.sobieski.disciplines import SobieskiMission\nfrom gemseo.problems.mdo.sobieski.disciplines import SobieskiPropulsion\nfrom gemseo.problems.mdo.sobieski.disciplines import SobieskiStructure\nfrom gemseo.uncertainty.sensitivity.sobol_analysis import SobolAnalysis\nfrom gemseo.utils.data_conversion import split_array_to_dict_of_arrays\n\nfrom gemseo_umdo.visualizations.sobol_graph import SobolGraph"
      ]
    },
    {
      "cell_type": "markdown",
      "metadata": {},
      "source": [
        "First,\nwe define an uncertain space around the optimum design:\n\n"
      ]
    },
    {
      "cell_type": "code",
      "execution_count": null,
      "metadata": {
        "collapsed": false
      },
      "outputs": [],
      "source": [
        "design_space = SobieskiProblem().design_space\ndesign_variable_names = [\"x_1\", \"x_2\", \"x_3\", \"x_shared\"]\ndesign_space.filter(design_variable_names)\noptimum_design = split_array_to_dict_of_arrays(\n    SobieskiProblem().optimum_design,\n    design_space.variable_sizes,\n    design_variable_names,\n)\n\nuncertain_space = DesignSpace()\nfor name, value in optimum_design.items():\n    uncertain_space.add_variable(\n        name,\n        size=value.size,\n        l_b=value * 0.95,\n        u_b=value * 1.05,\n        value=value,\n    )"
      ]
    },
    {
      "cell_type": "markdown",
      "metadata": {},
      "source": [
        "Then,\nwe define the disciplines:\n\n"
      ]
    },
    {
      "cell_type": "code",
      "execution_count": null,
      "metadata": {
        "collapsed": false
      },
      "outputs": [],
      "source": [
        "disciplines = [\n    SobieskiAerodynamics(),\n    SobieskiStructure(),\n    SobieskiPropulsion(),\n    SobieskiMission(),\n]"
      ]
    },
    {
      "cell_type": "markdown",
      "metadata": {},
      "source": [
        "Thirdly,\nwe compute the Sobol' indices for all the outputs of the MDO problem:\n\n"
      ]
    },
    {
      "cell_type": "code",
      "execution_count": null,
      "metadata": {
        "collapsed": false
      },
      "outputs": [],
      "source": [
        "sobol_analysis = SobolAnalysis(disciplines, uncertain_space, 100)\nsobol_analysis.compute_indices()"
      ]
    },
    {
      "cell_type": "markdown",
      "metadata": {},
      "source": [
        "Lastly,\nwe draw the Sobol' graph:\n\n"
      ]
    },
    {
      "cell_type": "code",
      "execution_count": null,
      "metadata": {
        "collapsed": false
      },
      "outputs": [],
      "source": [
        "sobol_graph = SobolGraph.from_analysis(sobol_analysis, output_name=\"y_4\")\nsobol_graph"
      ]
    },
    {
      "cell_type": "markdown",
      "metadata": {},
      "source": [
        "Sphinx Gallery and Jupyter Notebook can display `sobol_graph` in the web browser.\nYou can also use `sobol_graph.visualize()`\nto save it on the disk\nor display it with a dedicated program.\n\n"
      ]
    }
  ],
  "metadata": {
    "kernelspec": {
      "display_name": "Python 3",
      "language": "python",
      "name": "python3"
    },
    "language_info": {
      "codemirror_mode": {
        "name": "ipython",
        "version": 3
      },
      "file_extension": ".py",
      "mimetype": "text/x-python",
      "name": "python",
      "nbconvert_exporter": "python",
      "pygments_lexer": "ipython3",
      "version": "3.9.16"
    }
  },
  "nbformat": 4,
  "nbformat_minor": 0
}