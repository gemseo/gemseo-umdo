{
  "cells": [
    {
      "cell_type": "code",
      "execution_count": null,
      "metadata": {
        "collapsed": false
      },
      "outputs": [],
      "source": [
        "%matplotlib inline"
      ]
    },
    {
      "cell_type": "markdown",
      "metadata": {},
      "source": [
        "\n# Make a monodisciplinary optimization under uncertainty problem multidisciplinary\n\n## Introduction\n\n[UOptAsUMDOScenario][gemseo_umdo.problems.uopt_as_umdo_scenario.UOptAsUMDOScenario]\nis a class to make a monodisciplinary optimization problem under uncertainty\nmultidisciplinary[@AzizAlaoui2025].\nThe only requirement is that\nthe discipline has at least three scalar inputs defined as design variables,\nand at least one output defined as an objective.\nThese design variables may be uncertain.\nThe discipline may also have other inputs,\ndefined as design or uncertain variables,\nand outputs,\ndefined as objectives or constraints.\nThis scenario can be used to enrich a catalog of benchmark U-MDO problems,\nbased on the observation that\nMDO benchmark problems are far less numerous than optimization problems,\nespecially in the case of MDO under uncertainty.\n\nThis example illustrates it\nin the case of the minimization of the 3-dimensional Rosenbrock function\n\n$$\\mathbb{E}[f(z,U,V)] = \\mathbb{E}[100(z_2-(Uz_1)^2)^2 + (1-Vz_1)^2 + 100(z_1-(Uz_0)^2)^2 + (1-Vz_0)^2]$$\n\nover the hypercube $[-1,1]^3$.\n"
      ]
    },
    {
      "cell_type": "code",
      "execution_count": null,
      "metadata": {
        "collapsed": false
      },
      "outputs": [],
      "source": [
        "from __future__ import annotations\n\nfrom gemseo import create_design_space\nfrom gemseo import create_discipline\nfrom gemseo import generate_coupling_graph\nfrom gemseo.algos.parameter_space import ParameterSpace\nfrom numpy import array\n\nfrom gemseo_umdo.formulations.sampling_settings import Sampling_Settings\nfrom gemseo_umdo.problems.uopt_as_umdo_scenario import UOptAsUMDOScenario\nfrom gemseo_umdo.scenarios.umdo_scenario import UMDOScenario"
      ]
    },
    {
      "cell_type": "markdown",
      "metadata": {},
      "source": [
        "## Discipline and spaces\nFirst,\nwe create the discipline implementing the Rosenbrock function:\n\n"
      ]
    },
    {
      "cell_type": "code",
      "execution_count": null,
      "metadata": {
        "collapsed": false
      },
      "outputs": [],
      "source": [
        "discipline = create_discipline(\n    \"AnalyticDiscipline\",\n    expressions={\n        \"f\": \"100*(z_2-(u*z_1)**2)**2+(1-v*z_1)**2+100*(z_1-(u*z_0)**2)**2+(1-v*z_0)**2\"\n    },\n    name=\"Rosenbrock\",\n)"
      ]
    },
    {
      "cell_type": "markdown",
      "metadata": {},
      "source": [
        "as well as the design space:\n\n"
      ]
    },
    {
      "cell_type": "code",
      "execution_count": null,
      "metadata": {
        "collapsed": false
      },
      "outputs": [],
      "source": [
        "design_space = create_design_space()\ndesign_space.add_variable(\"z_0\", lower_bound=-1, upper_bound=1)\ndesign_space.add_variable(\"z_1\", lower_bound=-1, upper_bound=1)\ndesign_space.add_variable(\"z_2\", lower_bound=-1, upper_bound=1)"
      ]
    },
    {
      "cell_type": "markdown",
      "metadata": {},
      "source": [
        "and the uncertain space:\n\n"
      ]
    },
    {
      "cell_type": "code",
      "execution_count": null,
      "metadata": {
        "collapsed": false
      },
      "outputs": [],
      "source": [
        "uncertain_space = ParameterSpace()\nuncertain_space.add_random_variable(\"u\", \"OTNormalDistribution\", mu=1.0, sigma=0.01)\nuncertain_space.add_random_variable(\"v\", \"OTNormalDistribution\", mu=1.0, sigma=0.01)"
      ]
    },
    {
      "cell_type": "markdown",
      "metadata": {},
      "source": [
        "We choose $x^{(0)}=(-0.25, 0.75, -0.9)$\nas the starting point of the optimization:\n\n"
      ]
    },
    {
      "cell_type": "code",
      "execution_count": null,
      "metadata": {
        "collapsed": false
      },
      "outputs": [],
      "source": [
        "initial_point = array([-0.25, 0.75, -0.9])\ndesign_space.set_current_value(initial_point)"
      ]
    },
    {
      "cell_type": "markdown",
      "metadata": {},
      "source": [
        "## Optimization problem under uncertainty\nThen,\nwe define the optimization problem under uncertainty,\nwith statistics estimated by sampling:\n\n"
      ]
    },
    {
      "cell_type": "code",
      "execution_count": null,
      "metadata": {
        "collapsed": false
      },
      "outputs": [],
      "source": [
        "u_opt_scenario = UMDOScenario(\n    [discipline],\n    \"f\",\n    design_space,\n    uncertain_space,\n    \"Mean\",\n    Sampling_Settings(n_samples=50),\n    formulation_name=\"DisciplinaryOpt\",\n)"
      ]
    },
    {
      "cell_type": "markdown",
      "metadata": {},
      "source": [
        "and solve it using the SLSQP algorithm:\n\n"
      ]
    },
    {
      "cell_type": "code",
      "execution_count": null,
      "metadata": {
        "collapsed": false
      },
      "outputs": [],
      "source": [
        "u_opt_scenario.execute(algo_name=\"NLOPT_SLSQP\", max_iter=100)"
      ]
    },
    {
      "cell_type": "markdown",
      "metadata": {},
      "source": [
        "## MDO problem under uncertainty\nNow,\nwe use the\n[UOptAsUMDOScenario][gemseo_umdo.problems.uopt_as_umdo_scenario.UOptAsUMDOScenario]\nto rewrite this optimization problem under uncertainty\nas an MDO problem under uncertainty with two strongly coupled disciplines.\n\nFirst,\nwe reset the design space to the initial point:\n\n"
      ]
    },
    {
      "cell_type": "code",
      "execution_count": null,
      "metadata": {
        "collapsed": false
      },
      "outputs": [],
      "source": [
        "design_space.set_current_value(initial_point)"
      ]
    },
    {
      "cell_type": "markdown",
      "metadata": {},
      "source": [
        "and create the\n[UOptAsUMDOScenario][gemseo_umdo.problems.uopt_as_umdo_scenario.UOptAsUMDOScenario],\norchestrated by an MDF formulation:\n\n"
      ]
    },
    {
      "cell_type": "code",
      "execution_count": null,
      "metadata": {
        "collapsed": false
      },
      "outputs": [],
      "source": [
        "umdo_scenario = UOptAsUMDOScenario(\n    discipline,\n    \"f\",\n    design_space,\n    uncertain_space,\n    \"Mean\",\n    Sampling_Settings(n_samples=50),\n    formulation_name=\"MDF\",\n)"
      ]
    },
    {
      "cell_type": "markdown",
      "metadata": {},
      "source": [
        "Then,\nwe can see that the design variables have been renamed:\n\n"
      ]
    },
    {
      "cell_type": "code",
      "execution_count": null,
      "metadata": {
        "collapsed": false
      },
      "outputs": [],
      "source": [
        "design_space"
      ]
    },
    {
      "cell_type": "markdown",
      "metadata": {},
      "source": [
        "This renaming is based on the convention:\n\n- the first design variable is the global design variable and is named $x_0$,\n- the $(1+i)$-th design variable is the local design variable\n  specific to the $i$-th strongly coupled discipline\n  and is named $x_{1+i}$.\n\nWe can also have a look to the coupling graph:\n\n"
      ]
    },
    {
      "cell_type": "code",
      "execution_count": null,
      "metadata": {
        "collapsed": false
      },
      "outputs": [],
      "source": [
        "generate_coupling_graph(umdo_scenario.disciplines, file_path=\"\")"
      ]
    },
    {
      "cell_type": "markdown",
      "metadata": {},
      "source": [
        "and see that there are two strongly coupled disciplines $D_1$ and $D_2$,\nconnected by the coupling variables $y_1$ and $y_2$.\nThese disciplines are weakly coupled to a downstream link discipline $L$,\nwhich is weakly coupled to the downstream original discipline.\nLet us note that the link discipline computes\nthe values of the design variables in the original optimization problem\nfrom the values of the design and coupling variables in the MDO problem.\n\nWe can also represent the MDO process using an XDSM:\n\n"
      ]
    },
    {
      "cell_type": "code",
      "execution_count": null,
      "metadata": {
        "collapsed": false
      },
      "outputs": [],
      "source": [
        "umdo_scenario.xdsmize(save_html=False, pdf_build=False)"
      ]
    },
    {
      "cell_type": "markdown",
      "metadata": {},
      "source": [
        "Lastly,\nwe solve this scenario using the SLSQP algorithm:\n\n"
      ]
    },
    {
      "cell_type": "code",
      "execution_count": null,
      "metadata": {
        "collapsed": false
      },
      "outputs": [],
      "source": [
        "umdo_scenario.execute(algo_name=\"NLOPT_SLSQP\", max_iter=100)"
      ]
    },
    {
      "cell_type": "markdown",
      "metadata": {},
      "source": [
        "We can see that\nthe numerical solution corresponds to the one found in the monodisciplinary case.\n\n"
      ]
    }
  ],
  "metadata": {
    "kernelspec": {
      "display_name": "Python 3",
      "language": "python",
      "name": "python3"
    },
    "language_info": {
      "codemirror_mode": {
        "name": "ipython",
        "version": 3
      },
      "file_extension": ".py",
      "mimetype": "text/x-python",
      "name": "python",
      "nbconvert_exporter": "python",
      "pygments_lexer": "ipython3",
      "version": "3.13.7"
    }
  },
  "nbformat": 4,
  "nbformat_minor": 0
}