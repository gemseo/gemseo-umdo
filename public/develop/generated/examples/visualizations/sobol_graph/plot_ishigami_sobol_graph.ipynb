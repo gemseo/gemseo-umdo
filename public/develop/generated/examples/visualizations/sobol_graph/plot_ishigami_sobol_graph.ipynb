{
  "cells": [
    {
      "cell_type": "code",
      "execution_count": null,
      "metadata": {
        "collapsed": false
      },
      "outputs": [],
      "source": [
        "%matplotlib inline"
      ]
    },
    {
      "cell_type": "markdown",
      "metadata": {},
      "source": [
        "# Sobol' graph for the Ishigami use case.\n\nThis example illustrates\nthe concept of [SobolGraph][gemseo_umdo.visualizations.sobol_graph.SobolGraph]\nin the case of the Ishigami problem:\n\n$$f(X_1,X_2,X_3) = \\sin(X_1)+ 7\\sin(X_2)^2 + 0.1X_3^4\\sin(X_1)$$\n\nwhere $X_1$, $X_2$ and $X_3$ are independent random variables\nuniformly distributed over the interval $[-\\pi,\\pi]$.\n\nWe are going to represent the Sobol' indices of $f$\nusing a [SobolGraph][gemseo_umdo.visualizations.sobol_graph.SobolGraph].\n"
      ]
    },
    {
      "cell_type": "code",
      "execution_count": null,
      "metadata": {
        "collapsed": false
      },
      "outputs": [],
      "source": [
        "from __future__ import annotations\n\nfrom gemseo import sample_disciplines\nfrom gemseo.mlearning.regression.algos.pce import PCERegressor\nfrom gemseo.mlearning.regression.algos.pce_settings import PCERegressor_Settings\nfrom gemseo.problems.uncertainty.ishigami.ishigami_discipline import IshigamiDiscipline\nfrom gemseo.problems.uncertainty.ishigami.ishigami_space import IshigamiSpace\nfrom gemseo.problems.uncertainty.ishigami.statistics import SOBOL_1\nfrom gemseo.problems.uncertainty.ishigami.statistics import SOBOL_2\nfrom gemseo.problems.uncertainty.ishigami.statistics import SOBOL_3\nfrom gemseo.problems.uncertainty.ishigami.statistics import SOBOL_12\nfrom gemseo.problems.uncertainty.ishigami.statistics import SOBOL_13\nfrom gemseo.problems.uncertainty.ishigami.statistics import SOBOL_23\nfrom gemseo.problems.uncertainty.ishigami.statistics import TOTAL_SOBOL_1\nfrom gemseo.problems.uncertainty.ishigami.statistics import TOTAL_SOBOL_2\nfrom gemseo.problems.uncertainty.ishigami.statistics import TOTAL_SOBOL_3\nfrom gemseo.uncertainty.sensitivity.sobol_analysis import SobolAnalysis\n\nfrom gemseo_umdo.visualizations.sobol_graph import SobolGraph"
      ]
    },
    {
      "cell_type": "markdown",
      "metadata": {},
      "source": [
        "## Analytical Sobol' indices\n\nAs the Sobol' indices of the Ishigami function are perfectly known,\nwe can draw the Sobol' graph directly from these indices:\n\n"
      ]
    },
    {
      "cell_type": "code",
      "execution_count": null,
      "metadata": {
        "collapsed": false
      },
      "outputs": [],
      "source": [
        "sobol_graph = SobolGraph(\n    {\"X1\": SOBOL_1, \"X2\": SOBOL_2, \"X3\": SOBOL_3},\n    {\n        \"X1\": TOTAL_SOBOL_1,\n        \"X2\": TOTAL_SOBOL_2,\n        \"X3\": TOTAL_SOBOL_3,\n    },\n    {\n        (\"X1\", \"X2\"): SOBOL_12,\n        (\"X1\", \"X3\"): SOBOL_13,\n        (\"X2\", \"X3\"): SOBOL_23,\n    },\n)\nsobol_graph"
      ]
    },
    {
      "cell_type": "markdown",
      "metadata": {},
      "source": [
        "We can see that\nthe thickness of a node is proportional to the corresponding total index\n(this is the first value in the node, the second one being the first-order index)\nwhile an edge represents a second-order index.\n\n!!! note\n    A [SobolGraph][gemseo_umdo.visualizations.sobol_graph.SobolGraph]\n    can easily be displayed in an HTML page or in a Jupyter notebook.\n    You can also use its `visualize` method\n    to save it on the disk or display it with a dedicated program.\n\n## Indices estimated by sampling\n\nIf they were not known,\nwe could also estimate them by sampling.\n\nFirst,\nwe estimate the indices:\n\n"
      ]
    },
    {
      "cell_type": "code",
      "execution_count": null,
      "metadata": {
        "collapsed": false
      },
      "outputs": [],
      "source": [
        "sobol_analysis = SobolAnalysis()\nsobol_analysis.compute_samples([IshigamiDiscipline()], IshigamiSpace(), 1000)\nsobol_analysis.compute_indices()"
      ]
    },
    {
      "cell_type": "markdown",
      "metadata": {},
      "source": [
        "Then, we plot the Sobol' graph:\n\n"
      ]
    },
    {
      "cell_type": "code",
      "execution_count": null,
      "metadata": {
        "collapsed": false
      },
      "outputs": [],
      "source": [
        "sobol_graph = SobolGraph.from_analysis(sobol_analysis, \"y\")\nsobol_graph"
      ]
    },
    {
      "cell_type": "markdown",
      "metadata": {},
      "source": [
        "and find a figure similar to the previous one.\n\n## Indices estimated from a PCE\n\nWe could also estimate them from a polynomial chaos expansion\n(PCE, see [PCERegressor][gemseo.mlearning.regression.algos.pce.PCERegressor]).\n\n### Create the training dataset\nFirst,\nwe create a training dataset by sampling the Ishigami function using an optimal LHS:\n\n"
      ]
    },
    {
      "cell_type": "code",
      "execution_count": null,
      "metadata": {
        "collapsed": false
      },
      "outputs": [],
      "source": [
        "samples = sample_disciplines(\n    [IshigamiDiscipline()],\n    IshigamiSpace(\n        uniform_distribution_name=IshigamiSpace.UniformDistribution.OPENTURNS\n    ),\n    [\"y\"],\n    algo_name=\"OT_OPT_LHS\",\n    n_samples=50,\n)"
      ]
    },
    {
      "cell_type": "markdown",
      "metadata": {},
      "source": [
        "### Create the PCE\nThen,\nwe create a PCE using the LARS technique:\n\n"
      ]
    },
    {
      "cell_type": "code",
      "execution_count": null,
      "metadata": {
        "collapsed": false
      },
      "outputs": [],
      "source": [
        "pce_settings = PCERegressor_Settings(degree=6, use_lars=True)\npce = PCERegressor(samples, settings_model=pce_settings)\npce.learn()"
      ]
    },
    {
      "cell_type": "markdown",
      "metadata": {},
      "source": [
        "### Create the graph\nLastly, we plot the Sobol' graph:\n\n"
      ]
    },
    {
      "cell_type": "code",
      "execution_count": null,
      "metadata": {
        "collapsed": false
      },
      "outputs": [],
      "source": [
        "sobol_graph = SobolGraph.from_pce(pce, \"y\")\nsobol_graph"
      ]
    },
    {
      "cell_type": "markdown",
      "metadata": {},
      "source": [
        "We find a figure similar to the previous ones.\n\n"
      ]
    }
  ],
  "metadata": {
    "kernelspec": {
      "display_name": "Python 3",
      "language": "python",
      "name": "python3"
    },
    "language_info": {
      "codemirror_mode": {
        "name": "ipython",
        "version": 3
      },
      "file_extension": ".py",
      "mimetype": "text/x-python",
      "name": "python",
      "nbconvert_exporter": "python",
      "pygments_lexer": "ipython3",
      "version": "3.13.7"
    }
  },
  "nbformat": 4,
  "nbformat_minor": 0
}