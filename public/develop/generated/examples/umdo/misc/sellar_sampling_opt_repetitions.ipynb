{
  "cells": [
    {
      "cell_type": "code",
      "execution_count": null,
      "metadata": {
        "collapsed": false
      },
      "outputs": [],
      "source": [
        "%matplotlib inline"
      ]
    },
    {
      "cell_type": "markdown",
      "metadata": {},
      "source": [
        "# Sampling with repetitions\n"
      ]
    },
    {
      "cell_type": "code",
      "execution_count": null,
      "metadata": {
        "collapsed": false
      },
      "outputs": [],
      "source": [
        "from __future__ import annotations\n\nfrom gemseo import configure_logger\nfrom gemseo.algos.design_space import DesignSpace\nfrom gemseo.algos.parameter_space import ParameterSpace\nfrom gemseo.disciplines.analytic import AnalyticDiscipline\nfrom gemseo.settings.doe import OT_LHS_Settings\nfrom matplotlib import pyplot as plt\nfrom numpy import load\nfrom numpy import save\nfrom numpy import stack\nfrom numpy import vstack\n\nfrom gemseo_umdo.formulations.sampling_settings import Sampling_Settings\nfrom gemseo_umdo.scenarios.umdo_scenario import UMDOScenario\n\nconfigure_logger()"
      ]
    },
    {
      "cell_type": "markdown",
      "metadata": {},
      "source": [
        "Firstly,\nwe instantiate the disciplines of the Sellar problem:\n\n"
      ]
    },
    {
      "cell_type": "code",
      "execution_count": null,
      "metadata": {
        "collapsed": false
      },
      "outputs": [],
      "source": [
        "system = AnalyticDiscipline({\n    \"obj\": \"x**2 + z2 + y1**2 + exp(-y2)\",\n    \"c1\": \"3.16 - y1 ** 2\",\n    \"c2\": \"y2 - 24.0\",\n})\ndisc1 = AnalyticDiscipline({\"y1\": \"(z1**2 + z2 + x - a*y2)**0.5\"})\ndisc2 = AnalyticDiscipline({\"y2\": \"2/10*log(1+exp(10*y1))-y1-2/10*log(2) + z1 + z2\"})"
      ]
    },
    {
      "cell_type": "markdown",
      "metadata": {},
      "source": [
        "as well as a function to instantiate the design space:\n\n"
      ]
    },
    {
      "cell_type": "code",
      "execution_count": null,
      "metadata": {
        "collapsed": false
      },
      "outputs": [],
      "source": [
        "def create_design_space() -> DesignSpace:\n    \"\"\"Create the design space for the Sellar problem.\"\"\"\n    design_space = DesignSpace()\n    design_space.add_variable(\"x\", lower_bound=0.0, upper_bound=10.0, value=1.0)\n    design_space.add_variable(\"z1\", lower_bound=-10, upper_bound=10.0, value=4.0)\n    design_space.add_variable(\"z2\", lower_bound=0.0, upper_bound=10.0, value=3.0)\n    return design_space"
      ]
    },
    {
      "cell_type": "markdown",
      "metadata": {},
      "source": [
        "Secondly,\nwe define the uncertain space:\n\n"
      ]
    },
    {
      "cell_type": "code",
      "execution_count": null,
      "metadata": {
        "collapsed": false
      },
      "outputs": [],
      "source": [
        "uncertain_space = ParameterSpace()"
      ]
    },
    {
      "cell_type": "markdown",
      "metadata": {},
      "source": [
        "with an uncertainty over the constant `\"a\"`:\n\n"
      ]
    },
    {
      "cell_type": "code",
      "execution_count": null,
      "metadata": {
        "collapsed": false
      },
      "outputs": [],
      "source": [
        "uncertain_space.add_random_variable(\n    \"a\", \"OTTriangularDistribution\", minimum=0.1, maximum=0.3, mode=0.2\n)"
      ]
    },
    {
      "cell_type": "markdown",
      "metadata": {},
      "source": [
        "Then,\nwe build 10 [UMDOScenario][gemseo_umdo.scenarios.umdo_scenario.UMDOScenario]\nto minimize a sampling-based estimation\nof the expectation $\\mathbb{E}[obj]$\nand store the history of the design values:\n\n"
      ]
    },
    {
      "cell_type": "code",
      "execution_count": null,
      "metadata": {
        "collapsed": false
      },
      "outputs": [],
      "source": [
        "x_hist = []\nfor i in range(10):\n    print(i)\n    scenario = UMDOScenario(\n        [system, disc1, disc2],\n        \"obj\",\n        create_design_space(),\n        uncertain_space,\n        \"Mean\",\n        formulation_name=\"MDF\",\n        statistic_estimation_settings=Sampling_Settings(\n            doe_algo_settings=OT_LHS_Settings(n_samples=100, seed=i + 1)\n        ),\n    )\n    scenario.add_constraint(\"c1\", \"Margin\", factor=3.0)\n    scenario.add_constraint(\"c2\", \"Margin\", factor=3.0)\n    scenario.execute(algo_name=\"NLOPT_COBYLA\", max_iter=100)\n    x_hist.append(\n        vstack(scenario.formulation.optimization_problem.database.get_x_vect_history())\n    )"
      ]
    },
    {
      "cell_type": "markdown",
      "metadata": {},
      "source": [
        "Lastly,\nwe plot the variability of the optimization history with boxplots:\n\n"
      ]
    },
    {
      "cell_type": "code",
      "execution_count": null,
      "metadata": {
        "collapsed": false
      },
      "outputs": [],
      "source": [
        "print(x_hist)\nx_hist = stack(x_hist)\nsave(\"x_hist.npy\", x_hist)\nx_hist = load(\"x_hist.npy\")\nplt.boxplot(x_hist[:, :, 0])\nplt.savefig(\"hist.png\")"
      ]
    }
  ],
  "metadata": {
    "kernelspec": {
      "display_name": "Python 3",
      "language": "python",
      "name": "python3"
    },
    "language_info": {
      "codemirror_mode": {
        "name": "ipython",
        "version": 3
      },
      "file_extension": ".py",
      "mimetype": "text/x-python",
      "name": "python",
      "nbconvert_exporter": "python",
      "pygments_lexer": "ipython3",
      "version": "3.9.21"
    }
  },
  "nbformat": 4,
  "nbformat_minor": 0
}