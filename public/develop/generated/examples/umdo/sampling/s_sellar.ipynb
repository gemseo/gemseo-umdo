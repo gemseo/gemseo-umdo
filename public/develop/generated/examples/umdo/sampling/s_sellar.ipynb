{
  "cells": [
    {
      "cell_type": "code",
      "execution_count": null,
      "metadata": {
        "collapsed": false
      },
      "outputs": [],
      "source": [
        "%matplotlib inline"
      ]
    },
    {
      "cell_type": "markdown",
      "metadata": {},
      "source": [
        "# The Sellar's MDO problem\n\nIn this example,\nwe consider the Sellar's MDO problem under uncertainty\n\n$$\\min_{x,z_1,x_2} \\mathbb{E}[f(x,z_2,y_1,y_2)]$$\n\nover the design space $[0,10]\\times[-10,10]\\times[0,10]$ and\nunder the inequality constraints\n\n$$\\mathbb{E}[c_1(y_1)]+3\\mathbb{S}[c_1(y_1)] \\leq 0$$\n\nand\n\n$$\\mathbb{E}[c_2(y_2)]+3\\mathbb{S}[c_2(y_2)] \\leq 0,$$\n\nwhere\n\n- $\\mathbb{E}$ is the expectation operator,\n- $\\mathbb{S}$ is the standard deviation operators,\n- $f(x,z_2) = x^2 + z_2 + y_1^2 + \\exp(-y_2)$ is the objective function,\n- $c_1(y_1) = 3.16 - y_1^2$ is the first constraint function,\n- $c_2(y_2) = y_2 - 24.0$ is the second constraint function,\n- $y_1 = \\sqrt{z_1^2 + z_2 + x - ay_2}$ is the first coupling equation,\n- $y_2 = \\frac{\\log(1+\\exp(10y_1))}{5} - y_1 - \\frac{\\log(2)}{5} + z_1 + z_2$\n  is the second coupling equation,\n- $a$ is a random variable distributed\n  according to the triangular distribution $\\mathcal{T}(0.1,0.2,0.3)$.\n"
      ]
    },
    {
      "cell_type": "code",
      "execution_count": null,
      "metadata": {
        "collapsed": false
      },
      "outputs": [],
      "source": [
        "from __future__ import annotations\n\nfrom gemseo.algos.design_space import DesignSpace\nfrom gemseo.algos.parameter_space import ParameterSpace\nfrom gemseo.disciplines.analytic import AnalyticDiscipline\n\nfrom gemseo_umdo.formulations.sampling_settings import Sampling_Settings\nfrom gemseo_umdo.scenarios.umdo_scenario import UMDOScenario"
      ]
    },
    {
      "cell_type": "markdown",
      "metadata": {},
      "source": [
        "Firstly,\nwe create one discipline per coupling equation\nand a system discipline to compute the objective and constraints:\n\n"
      ]
    },
    {
      "cell_type": "code",
      "execution_count": null,
      "metadata": {
        "collapsed": false
      },
      "outputs": [],
      "source": [
        "system = AnalyticDiscipline({\n    \"obj\": \"x**2 + z2 + y1**2 + exp(-y2)\",\n    \"c1\": \"3.16 - y1 ** 2\",\n    \"c2\": \"y2 - 24.0\",\n})\ndisc1 = AnalyticDiscipline({\"y1\": \"(z1**2 + z2 + x - a*y2)**0.5\"})\ndisc2 = AnalyticDiscipline({\"y2\": \"abs(y1) + z1 + z2\"})"
      ]
    },
    {
      "cell_type": "markdown",
      "metadata": {},
      "source": [
        "as well as the design space:\n\n"
      ]
    },
    {
      "cell_type": "code",
      "execution_count": null,
      "metadata": {
        "collapsed": false
      },
      "outputs": [],
      "source": [
        "design_space = DesignSpace()\ndesign_space.add_variable(\"x\", lower_bound=0.0, upper_bound=10.0, value=1.0)\ndesign_space.add_variable(\"z1\", lower_bound=-10.0, upper_bound=10.0, value=4.0)\ndesign_space.add_variable(\"z2\", lower_bound=0.0, upper_bound=10.0, value=3.0)"
      ]
    },
    {
      "cell_type": "markdown",
      "metadata": {},
      "source": [
        "Secondly,\nwe define the uncertain space:\n\n"
      ]
    },
    {
      "cell_type": "code",
      "execution_count": null,
      "metadata": {
        "collapsed": false
      },
      "outputs": [],
      "source": [
        "uncertain_space = ParameterSpace()"
      ]
    },
    {
      "cell_type": "markdown",
      "metadata": {},
      "source": [
        "with an uncertainty over the constant `\"a\"`:\n\n"
      ]
    },
    {
      "cell_type": "code",
      "execution_count": null,
      "metadata": {
        "collapsed": false
      },
      "outputs": [],
      "source": [
        "uncertain_space.add_random_variable(\n    \"a\", \"OTTriangularDistribution\", minimum=0.1, maximum=0.3, mode=0.2\n)"
      ]
    },
    {
      "cell_type": "markdown",
      "metadata": {},
      "source": [
        "Then,\nwe define a [UMDOScenario][gemseo_umdo.scenarios.umdo_scenario.UMDOScenario]\nto minimize the statistic $\\mathbb{E}[f(x,z_2,y_1,y_2)]$\nestimated using a crude Monte Carlo sampling strategy\nwith 100 samples at each iteration of the optimization loop:\n\n"
      ]
    },
    {
      "cell_type": "code",
      "execution_count": null,
      "metadata": {
        "collapsed": false
      },
      "outputs": [],
      "source": [
        "scenario = UMDOScenario(\n    [system, disc1, disc2],\n    \"obj\",\n    design_space,\n    uncertain_space,\n    \"Mean\",\n    formulation_name=\"MDF\",\n    statistic_estimation_settings=Sampling_Settings(n_samples=100),\n)"
      ]
    },
    {
      "cell_type": "markdown",
      "metadata": {},
      "source": [
        "while satisfying the constraints\n$\\mathbb{E}[c_1(y_1)]+3\\mathbb{S}[c_1(y_1)] \\leq 0$\nand\n$\\mathbb{E}[c_2(y_2)]+3\\mathbb{S}[c_2(y_2)] \\leq 0$:\n\n"
      ]
    },
    {
      "cell_type": "code",
      "execution_count": null,
      "metadata": {
        "collapsed": false
      },
      "outputs": [],
      "source": [
        "scenario.add_constraint(\"c1\", \"Margin\", factor=3.0)\nscenario.add_constraint(\"c2\", \"Margin\", factor=3.0)"
      ]
    },
    {
      "cell_type": "markdown",
      "metadata": {},
      "source": [
        "We execute this scenario using the gradient-based optimizer SLSQP:\n\n"
      ]
    },
    {
      "cell_type": "code",
      "execution_count": null,
      "metadata": {
        "collapsed": false
      },
      "outputs": [],
      "source": [
        "scenario.execute(algo_name=\"NLOPT_SLSQP\", max_iter=200)"
      ]
    },
    {
      "cell_type": "markdown",
      "metadata": {},
      "source": [
        "and plot the optimization history:\n\n"
      ]
    },
    {
      "cell_type": "code",
      "execution_count": null,
      "metadata": {
        "collapsed": false
      },
      "outputs": [],
      "source": [
        "scenario.post_process(post_name=\"OptHistoryView\", save=True, show=False)"
      ]
    },
    {
      "cell_type": "markdown",
      "metadata": {},
      "source": [
        "Lastly,\nwe can compare the numerical solution of this Sellar's MDO problem under uncertainty\n\n"
      ]
    },
    {
      "cell_type": "code",
      "execution_count": null,
      "metadata": {
        "collapsed": false
      },
      "outputs": [],
      "source": [
        "result = scenario.optimization_result\n(result.x_opt, result.constraint_values, result.f_opt)"
      ]
    },
    {
      "cell_type": "markdown",
      "metadata": {},
      "source": [
        "to the solution of the Sellar's MDO problem without uncertainty,\nnamely\n$(x^*,c^*,f^*)=([0, 1.77, 0], [0, -20.58], 3.19)$.\n\n"
      ]
    }
  ],
  "metadata": {
    "kernelspec": {
      "display_name": "Python 3",
      "language": "python",
      "name": "python3"
    },
    "language_info": {
      "codemirror_mode": {
        "name": "ipython",
        "version": 3
      },
      "file_extension": ".py",
      "mimetype": "text/x-python",
      "name": "python",
      "nbconvert_exporter": "python",
      "pygments_lexer": "ipython3",
      "version": "3.12.10"
    }
  },
  "nbformat": 4,
  "nbformat_minor": 0
}