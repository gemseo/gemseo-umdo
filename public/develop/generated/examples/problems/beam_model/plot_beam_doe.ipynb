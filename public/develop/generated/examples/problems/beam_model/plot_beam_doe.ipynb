{
  "cells": [
    {
      "cell_type": "code",
      "execution_count": null,
      "metadata": {
        "collapsed": false
      },
      "outputs": [],
      "source": [
        "%matplotlib inline"
      ]
    },
    {
      "cell_type": "markdown",
      "metadata": {},
      "source": [
        "# Large DOE study.\n\nSample the weight $w(h,t)$ and the constraints $c_{\\text{stress}}(h,t)$ and\n$c_{\\text{displacement}}(h,t)$ w.r.t. the height $h\\in[500, 800]$ and the thickness\n$t\\in[2,10]$.\n"
      ]
    },
    {
      "cell_type": "code",
      "execution_count": null,
      "metadata": {
        "collapsed": false
      },
      "outputs": [],
      "source": [
        "from __future__ import annotations\n\nfrom gemseo import configure_logger\nfrom gemseo.post.dataset.zvsxy import ZvsXY\nfrom gemseo.scenarios.doe_scenario import DOEScenario\n\nfrom gemseo_umdo.use_cases.beam_model.constraints import BeamConstraints\nfrom gemseo_umdo.use_cases.beam_model.design_space import BeamDesignSpace\nfrom gemseo_umdo.use_cases.beam_model.discipline import Beam\n\nconfigure_logger()\n\ndisciplines = [Beam(), BeamConstraints()]\n\ndesign_space = BeamDesignSpace()\n\nscenario = DOEScenario(disciplines, \"MDF\", \"w\", design_space)\nscenario.add_constraint(\"c_stress\", constraint_type=\"ineq\", value=1.0)\nscenario.add_constraint(\"c_displ\", constraint_type=\"ineq\", positive=True, value=1.0)\nscenario.execute(algo=\"fullfact\", n_samples=10**2)\n\ndataset = scenario.formulation.optimization_problem.to_dataset()\nZvsXY(dataset, \"h\", \"t\", \"w\").execute(save=True, show=False, file_name=\"w\")\nfor constraint_name in [\"-[c_displ-1.0]\", \"[c_stress-1.0]\"]:\n    for z_component in range(9):\n        ZvsXY(dataset, \"h\", \"t\", (constraint_name, z_component)).execute(\n            save=False,\n            show=True,\n        )"
      ]
    }
  ],
  "metadata": {
    "kernelspec": {
      "display_name": "Python 3",
      "language": "python",
      "name": "python3"
    },
    "language_info": {
      "codemirror_mode": {
        "name": "ipython",
        "version": 3
      },
      "file_extension": ".py",
      "mimetype": "text/x-python",
      "name": "python",
      "nbconvert_exporter": "python",
      "pygments_lexer": "ipython3",
      "version": "3.9.19"
    }
  },
  "nbformat": 4,
  "nbformat_minor": 0
}