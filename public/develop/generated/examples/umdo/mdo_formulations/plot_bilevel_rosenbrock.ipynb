{
  "cells": [
    {
      "cell_type": "code",
      "execution_count": null,
      "metadata": {
        "collapsed": false
      },
      "outputs": [],
      "source": [
        "%matplotlib inline"
      ]
    },
    {
      "cell_type": "markdown",
      "metadata": {},
      "source": [
        "BiLevel applied to the Rosenbrock problem.\n\nThis example illustrates the use of the ``BiLevel`` formulation\nto solve the 3-dimensional Rosenbrock problem under uncertainty:\n\n$$\\mathbb{E}[f(z,U,V)] = \\mathbb{E}[100(z_2-(Uz_1)^2)^2 + (1-Vz_1)^2 + 100(z_1-(Uz_0)^2)^2 + (1-Vz_0)^2]$$\n\nrelative to $z$ in the hypercube $[-1,1]^3$,\nwhere $\\mathbb{E}$ is the expectation operator\nand $U$ and $V$ are independent random variables\nnormally distributed\nwith mean equal to 1 and standard deviation equal to 0.01[@AzizAlaoui2025].\n\nWe use the\n[create_disciplines][gemseo.problems.mdo.opt_as_mdo_scenario.create_disciplines]\nfunction\nto make this optimization multidisciplinary.\n"
      ]
    },
    {
      "cell_type": "code",
      "execution_count": null,
      "metadata": {
        "collapsed": false
      },
      "outputs": [],
      "source": [
        "from __future__ import annotations\n\nfrom gemseo import configure\nfrom gemseo import configure_logger\nfrom gemseo import create_design_space\nfrom gemseo import create_discipline\nfrom gemseo import create_parameter_space\nfrom gemseo.problems.mdo.opt_as_mdo_scenario import create_disciplines\nfrom gemseo.scenarios.mdo_scenario import MDOScenario\nfrom matplotlib import pyplot as plt\nfrom numpy import array\nfrom numpy import atleast_2d\n\nfrom gemseo_umdo.formulations.sampling_settings import Sampling_Settings\nfrom gemseo_umdo.scenarios.umdo_scenario import UMDOScenario\n\nconfigure_logger()\nconfigure(False, False, True, False, False, False, False)"
      ]
    },
    {
      "cell_type": "markdown",
      "metadata": {},
      "source": [
        "## Original discipline and spaces\n\nFirst,\nwe create the Rosenbrock discipline:\n\n"
      ]
    },
    {
      "cell_type": "code",
      "execution_count": null,
      "metadata": {
        "collapsed": false
      },
      "outputs": [],
      "source": [
        "rosenbrock = create_discipline(\n    \"AnalyticDiscipline\",\n    expressions={\n        \"f\": \"100*(z_2-(u*z_1)**2)**2+(1-v*z_1)**2+100*(z_1-(u*z_0)**2)**2+(1-v*z_0)**2\"\n    },\n    name=\"Rosenbrock\",\n)"
      ]
    },
    {
      "cell_type": "markdown",
      "metadata": {},
      "source": [
        "the design space:\n\n"
      ]
    },
    {
      "cell_type": "code",
      "execution_count": null,
      "metadata": {
        "collapsed": false
      },
      "outputs": [],
      "source": [
        "design_space = create_design_space()\ndesign_space.add_variable(\"z_0\", lower_bound=-1, upper_bound=1)\ndesign_space.add_variable(\"z_1\", lower_bound=-1, upper_bound=1)\ndesign_space.add_variable(\"z_2\", lower_bound=-1, upper_bound=1)"
      ]
    },
    {
      "cell_type": "markdown",
      "metadata": {},
      "source": [
        "and the uncertain space:\n\n"
      ]
    },
    {
      "cell_type": "code",
      "execution_count": null,
      "metadata": {
        "collapsed": false
      },
      "outputs": [],
      "source": [
        "uncertain_space = create_parameter_space()\nuncertain_space.add_random_variable(\"u\", \"OTNormalDistribution\", mu=1.0, sigma=0.01)\nuncertain_space.add_random_variable(\"v\", \"OTNormalDistribution\", mu=1.0, sigma=0.01)"
      ]
    },
    {
      "cell_type": "markdown",
      "metadata": {},
      "source": [
        "Then,\nwe create the disciplines of the multidisciplinary problem:\n\n"
      ]
    },
    {
      "cell_type": "code",
      "execution_count": null,
      "metadata": {
        "collapsed": false
      },
      "outputs": [],
      "source": [
        "disciplines = create_disciplines(rosenbrock, design_space)"
      ]
    },
    {
      "cell_type": "markdown",
      "metadata": {},
      "source": [
        "which are the Rosenbrock discipline,\na linear link discipline and two strongly coupled linear disciplines:\n\n"
      ]
    },
    {
      "cell_type": "code",
      "execution_count": null,
      "metadata": {
        "collapsed": false
      },
      "outputs": [],
      "source": [
        "rosenbrock, link_discipline, discipline_1, discipline_2 = disciplines"
      ]
    },
    {
      "cell_type": "markdown",
      "metadata": {},
      "source": [
        "Now,\nwe can use these disciplines, design space and uncertain space\nto solve the Rosenbrock problem under uncertainty in a multidisciplinary way.\nMore precisely,\nwe will solve the U-MDO problem\nnot only with the ``BiLevel`` formulation but also with the ``MDF`` one\nto show the difference in nature between these formulations\nand highlight the characteristics of ``BiLevel``.\n\nThe optimization algorithms will use a maximum of 100 iterations\nand the expectation will be estimated from 30 samples:\n\n"
      ]
    },
    {
      "cell_type": "code",
      "execution_count": null,
      "metadata": {
        "collapsed": false
      },
      "outputs": [],
      "source": [
        "max_iter = 100\nn_samples = 30"
      ]
    },
    {
      "cell_type": "markdown",
      "metadata": {},
      "source": [
        "## MDF\n\nWe solve the U-MDO problem using the ``MDF`` formulation\nfrom the initial point $x=(-0.25, 0.75, -0.9)$:\n\n"
      ]
    },
    {
      "cell_type": "code",
      "execution_count": null,
      "metadata": {
        "collapsed": false
      },
      "outputs": [],
      "source": [
        "initial_point = array([-0.25, 0.75, -0.9])\ndesign_space.set_current_value(initial_point)\nmdf_scenario = UMDOScenario(\n    [rosenbrock, link_discipline, discipline_1, discipline_2],\n    \"f\",\n    design_space,\n    uncertain_space,\n    \"Mean\",\n    Sampling_Settings(n_samples=n_samples, estimate_statistics_iteratively=False),\n    formulation_name=\"MDF\",\n)"
      ]
    },
    {
      "cell_type": "markdown",
      "metadata": {},
      "source": [
        "and solve it using the gradient-based SLSQP algorithm:\n\n"
      ]
    },
    {
      "cell_type": "code",
      "execution_count": null,
      "metadata": {
        "collapsed": false
      },
      "outputs": [],
      "source": [
        "mdf_scenario.execute(algo_name=\"NLOPT_SLSQP\", max_iter=max_iter)"
      ]
    },
    {
      "cell_type": "markdown",
      "metadata": {},
      "source": [
        "## BiLevel\n\nWe solve the U-MDO problem using the ``BiLevel`` formulation\nfrom the initial point $x=(-0.25, 0.75, -0.9)$:\n\n"
      ]
    },
    {
      "cell_type": "code",
      "execution_count": null,
      "metadata": {
        "collapsed": false
      },
      "outputs": [],
      "source": [
        "design_space.set_current_value(initial_point)"
      ]
    },
    {
      "cell_type": "markdown",
      "metadata": {},
      "source": [
        "### Sub-scenarios\n\nFirst,\nwe create two sub-scenarios,\nnamely the one to minimize the objective function\nwith respect to the local design variable $x_1$\nusing the gradient-based SLSQP algorithm:\n\n"
      ]
    },
    {
      "cell_type": "code",
      "execution_count": null,
      "metadata": {
        "collapsed": false
      },
      "outputs": [],
      "source": [
        "scenario_1 = MDOScenario(\n    [discipline_1, link_discipline, rosenbrock],\n    \"f\",\n    design_space.filter(\"x_1\", copy=True),\n    formulation_name=\"DisciplinaryOpt\",\n)\nscenario_1.set_algorithm(algo_name=\"SLSQP\", max_iter=max_iter)"
      ]
    },
    {
      "cell_type": "markdown",
      "metadata": {},
      "source": [
        "namely the one to minimize the objective function\nwith respect to the local design variable $x_2$\nusing the gradient-based SLSQP algorithm:\n\n"
      ]
    },
    {
      "cell_type": "code",
      "execution_count": null,
      "metadata": {
        "collapsed": false
      },
      "outputs": [],
      "source": [
        "scenario_2 = MDOScenario(\n    [discipline_2, link_discipline, rosenbrock],\n    \"f\",\n    design_space.filter(\"x_2\", copy=True),\n    formulation_name=\"DisciplinaryOpt\",\n)\nscenario_2.set_algorithm(algo_name=\"SLSQP\", max_iter=max_iter)"
      ]
    },
    {
      "cell_type": "markdown",
      "metadata": {},
      "source": [
        "### Main scenario\n\nThen,\nwe create the main scenario from this sub-scenarios\nto minimize the objective function with respect to the global design variable $x_0$:\n\n"
      ]
    },
    {
      "cell_type": "code",
      "execution_count": null,
      "metadata": {
        "collapsed": false
      },
      "outputs": [],
      "source": [
        "bilevel_scenario = UMDOScenario(\n    [scenario_1, scenario_2, rosenbrock],\n    \"f\",\n    design_space.filter(\"x_0\", copy=True),\n    uncertain_space,\n    \"Mean\",\n    Sampling_Settings(n_samples=n_samples, estimate_statistics_iteratively=False),\n    formulation_name=\"BiLevel\",\n    save_opt_history=False,\n)"
      ]
    },
    {
      "cell_type": "markdown",
      "metadata": {},
      "source": [
        "and solve the MDO problem using the gradient-free COBYLA algorithm:\n\n"
      ]
    },
    {
      "cell_type": "code",
      "execution_count": null,
      "metadata": {
        "collapsed": false
      },
      "outputs": [],
      "source": [
        "bilevel_scenario.execute(algo_name=\"NLOPT_COBYLA\", max_iter=max_iter)"
      ]
    },
    {
      "cell_type": "markdown",
      "metadata": {},
      "source": [
        "## Results\nIn this last section,\nwe will compare ``MDF`` and ``BiLevel`` in terms of results.\n\nFirst,\nwe can have a look at the optimum solution in terms of global variables:\n\n"
      ]
    },
    {
      "cell_type": "code",
      "execution_count": null,
      "metadata": {
        "collapsed": false
      },
      "outputs": [],
      "source": [
        "mdf_x_opt = mdf_scenario.optimization_result.x_opt\nbilevel_x_opt = bilevel_scenario.optimization_result.x_opt"
      ]
    },
    {
      "cell_type": "markdown",
      "metadata": {},
      "source": [
        "for ``MDF``:\n\n"
      ]
    },
    {
      "cell_type": "code",
      "execution_count": null,
      "metadata": {
        "collapsed": false
      },
      "outputs": [],
      "source": [
        "mdf_x_opt[0]"
      ]
    },
    {
      "cell_type": "markdown",
      "metadata": {},
      "source": [
        "for ``BiLevel``:\n\n"
      ]
    },
    {
      "cell_type": "code",
      "execution_count": null,
      "metadata": {
        "collapsed": false
      },
      "outputs": [],
      "source": [
        "bilevel_x_opt[0]"
      ]
    },
    {
      "cell_type": "markdown",
      "metadata": {},
      "source": [
        "The solutions are very close in terms of global design variables.\n\nThen,\nwe can have a look at the optimum solution in terms of mean objective:\n\n"
      ]
    },
    {
      "cell_type": "code",
      "execution_count": null,
      "metadata": {
        "collapsed": false
      },
      "outputs": [],
      "source": [
        "mdf_f_opt = mdf_scenario.optimization_result.f_opt\nbilevel_f_opt = bilevel_scenario.optimization_result.f_opt"
      ]
    },
    {
      "cell_type": "markdown",
      "metadata": {},
      "source": [
        "for ``MDF``:\n\n"
      ]
    },
    {
      "cell_type": "code",
      "execution_count": null,
      "metadata": {
        "collapsed": false
      },
      "outputs": [],
      "source": [
        "mdf_f_opt"
      ]
    },
    {
      "cell_type": "markdown",
      "metadata": {},
      "source": [
        "for ``BiLevel``:\n\n"
      ]
    },
    {
      "cell_type": "code",
      "execution_count": null,
      "metadata": {
        "collapsed": false
      },
      "outputs": [],
      "source": [
        "bilevel_f_opt"
      ]
    },
    {
      "cell_type": "markdown",
      "metadata": {},
      "source": [
        "The ``BiLevel`` solution seems to be better than the ``MDF`` one.\n\nFinally,\nwe execute the ``BiLevel`` formulation at the bi-level optimum:\n\n"
      ]
    },
    {
      "cell_type": "code",
      "execution_count": null,
      "metadata": {
        "collapsed": false
      },
      "outputs": [],
      "source": [
        "bilevel_scenario.execute(algo_name=\"CustomDOE\", samples=atleast_2d(bilevel_x_opt))"
      ]
    },
    {
      "cell_type": "markdown",
      "metadata": {},
      "source": [
        "which generates samples $\\left(f(x_0^*,U^{(i)},V^{(i)})\\right)_{1\\leq i \\leq N}$:\n\n"
      ]
    },
    {
      "cell_type": "code",
      "execution_count": null,
      "metadata": {
        "collapsed": false
      },
      "outputs": [],
      "source": [
        "database = bilevel_scenario.formulation.mdo_formulation.optimization_problem.database\nf_samples = database.get_function_history(\"f\").ravel()"
      ]
    },
    {
      "cell_type": "markdown",
      "metadata": {},
      "source": [
        "that we can plot using a histogram:\n\n"
      ]
    },
    {
      "cell_type": "code",
      "execution_count": null,
      "metadata": {
        "collapsed": false
      },
      "outputs": [],
      "source": [
        "plt.boxplot(f_samples, vert=False)\nplt.plot(mdf_f_opt, 1, \"bo\", label=r\"$f^*(MDF)$\")\nplt.plot(bilevel_f_opt, 1, \"rs\", label=r\"$f^*(BiLevel)$\")\nplt.xlabel(\"f\")\nplt.grid()\nplt.legend()\nplt.show()"
      ]
    },
    {
      "cell_type": "markdown",
      "metadata": {},
      "source": [
        "We can see that,\non average,\nthe ``BiLevel`` solution in red is better than the ``MDF`` solution in blue.\nOn the other hand,\nthere are values of $U$ and $V$ for which the solution could be even better.\nThis is one of the advantages of using the ``BiLevel`` formulation under uncertainty:\nchoosing the global design variable values now,\nand leave ourselves time to choose those of the local design variables,\nin the hope that, in the future,\nthe uncertainties will decrease and lead us to an even more favorable solution.\n\n"
      ]
    }
  ],
  "metadata": {
    "kernelspec": {
      "display_name": "Python 3",
      "language": "python",
      "name": "python3"
    },
    "language_info": {
      "codemirror_mode": {
        "name": "ipython",
        "version": 3
      },
      "file_extension": ".py",
      "mimetype": "text/x-python",
      "name": "python",
      "nbconvert_exporter": "python",
      "pygments_lexer": "ipython3",
      "version": "3.9.21"
    }
  },
  "nbformat": 4,
  "nbformat_minor": 0
}