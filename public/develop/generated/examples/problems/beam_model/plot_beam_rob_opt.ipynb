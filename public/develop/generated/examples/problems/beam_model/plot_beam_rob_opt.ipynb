{
  "cells": [
    {
      "cell_type": "code",
      "execution_count": null,
      "metadata": {
        "collapsed": false
      },
      "outputs": [],
      "source": [
        "%matplotlib inline"
      ]
    },
    {
      "cell_type": "markdown",
      "metadata": {},
      "source": [
        "# Robust optimization problem.\n\nMinimize the expectation of the weight $w(h,t)$ w.r.t. the height $h\\in[500, 800]$ and\nthe thickness $t\\in[2,10]$ while satisfying $c_{\\text{stress}}(h,t)\\geq 1.0$ and\n$c_{\\text{displacement}}(h,t)\\leq 1.0$ with probability 90\\% where $F$, $E$ and\n$\\sigma_{\\text{all}}$ are random variables defined by `BeamUncertainSpace`.\n"
      ]
    },
    {
      "cell_type": "code",
      "execution_count": null,
      "metadata": {
        "collapsed": false
      },
      "outputs": [],
      "source": [
        "from __future__ import annotations\n\nfrom gemseo import configure\nfrom gemseo import configure_logger\n\nfrom gemseo_umdo.scenarios.umdo_scenario import UMDOScenario\nfrom gemseo_umdo.use_cases.beam_model.constraints import BeamConstraints\nfrom gemseo_umdo.use_cases.beam_model.design_space import BeamDesignSpace\nfrom gemseo_umdo.use_cases.beam_model.discipline import Beam\nfrom gemseo_umdo.use_cases.beam_model.uncertain_space import BeamUncertainSpace\n\nconfigure()\nconfigure_logger()\n\nscenario = UMDOScenario(\n    [Beam(), BeamConstraints()],\n    \"MDF\",\n    \"w\",\n    BeamDesignSpace(),\n    BeamUncertainSpace(uniform=False),\n    \"Mean\",\n    statistic_estimation=\"Sampling\",\n    statistic_estimation_parameters={\"n_samples\": 200},\n)\nscenario.add_constraint(\n    \"c_stress\", \"Probability\", greater=False, threshold=1.0, positive=True, value=0.9\n)\nscenario.add_constraint(\n    \"c_displ\", \"Probability\", greater=True, threshold=1.0, positive=True, value=0.9\n)\nscenario.execute(algo=\"NLOPT_COBYLA\", max_iter=30)\n\nscenario.post_process(\"OptHistoryView\", save=False, show=True)"
      ]
    }
  ],
  "metadata": {
    "kernelspec": {
      "display_name": "Python 3",
      "language": "python",
      "name": "python3"
    },
    "language_info": {
      "codemirror_mode": {
        "name": "ipython",
        "version": 3
      },
      "file_extension": ".py",
      "mimetype": "text/x-python",
      "name": "python",
      "nbconvert_exporter": "python",
      "pygments_lexer": "ipython3",
      "version": "3.9.19"
    }
  },
  "nbformat": 4,
  "nbformat_minor": 0
}