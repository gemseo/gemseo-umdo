{
  "cells": [
    {
      "cell_type": "code",
      "execution_count": null,
      "metadata": {
        "collapsed": false
      },
      "outputs": [],
      "source": [
        "%matplotlib inline"
      ]
    },
    {
      "cell_type": "markdown",
      "metadata": {},
      "source": [
        "# Optimization problem.\n\nMinimize the weight $w(h,t)$ w.r.t. the height $h\\in[500, 800]$ and the thickness\n$t\\in[2,10]$ while satisfying $c_{\\text{stress}}(h,t)\\geq 1.0$ and\n$c_{\\text{displacement}}(h,t)\\leq 1.0$.\n"
      ]
    },
    {
      "cell_type": "code",
      "execution_count": null,
      "metadata": {
        "collapsed": false
      },
      "outputs": [],
      "source": [
        "from __future__ import annotations\n\nfrom gemseo import configure_logger\nfrom gemseo.scenarios.mdo_scenario import MDOScenario\n\nfrom gemseo_umdo.use_cases.beam_model.constraints import BeamConstraints\nfrom gemseo_umdo.use_cases.beam_model.design_space import BeamDesignSpace\nfrom gemseo_umdo.use_cases.beam_model.discipline import Beam\n\nconfigure_logger()\n\ndisciplines = [Beam(), BeamConstraints()]\n\ndesign_space = BeamDesignSpace()\n\nscenario = MDOScenario(disciplines, \"w\", design_space, formulation_name=\"MDF\")\nscenario.add_constraint(\"c_stress\", constraint_type=\"ineq\", value=1.0)\nscenario.add_constraint(\"c_displ\", constraint_type=\"ineq\", positive=True, value=1.0)\nscenario.execute(algo_name=\"NLOPT_COBYLA\", max_iter=1000)\n\nscenario.post_process(post_name=\"OptHistoryView\", save=False, show=True)"
      ]
    }
  ],
  "metadata": {
    "kernelspec": {
      "display_name": "Python 3",
      "language": "python",
      "name": "python3"
    },
    "language_info": {
      "codemirror_mode": {
        "name": "ipython",
        "version": 3
      },
      "file_extension": ".py",
      "mimetype": "text/x-python",
      "name": "python",
      "nbconvert_exporter": "python",
      "pygments_lexer": "ipython3",
      "version": "3.9.21"
    }
  },
  "nbformat": 4,
  "nbformat_minor": 0
}