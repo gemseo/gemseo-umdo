{
  "cells": [
    {
      "cell_type": "code",
      "execution_count": null,
      "metadata": {
        "collapsed": false
      },
      "outputs": [],
      "source": [
        "%matplotlib inline"
      ]
    },
    {
      "cell_type": "markdown",
      "metadata": {},
      "source": [
        "# Sobol' sensitivity analysis.\n\nCompute and plot the total Sobol' indices for the field constraints $c_{\\text{stress}}$\nand $c_{\\text{displacement}}$ where $F$, $E$ and $\\sigma_{\\text{all}}$ are random\nvariables defined by `BeamUncertainSpace`.\n"
      ]
    },
    {
      "cell_type": "code",
      "execution_count": null,
      "metadata": {
        "collapsed": false
      },
      "outputs": [],
      "source": [
        "from __future__ import annotations\n\nfrom gemseo.core.chains.chain import MDOChain\nfrom gemseo.uncertainty.sensitivity.sobol_analysis import SobolAnalysis\n\nfrom gemseo_umdo.use_cases.beam_model.constraints import BeamConstraints\nfrom gemseo_umdo.use_cases.beam_model.discipline import Beam\nfrom gemseo_umdo.use_cases.beam_model.uncertain_space import BeamUncertainSpace\n\nuncertain_space = BeamUncertainSpace()\n\nn_y = n_z = 10\n\nmdo_chain = MDOChain([Beam(n_y=n_y, n_z=n_z), BeamConstraints()])\n\nsobol = SobolAnalysis()\nsobol.compute_samples(\n    [mdo_chain], uncertain_space, 500, output_names=[\"c_displ\", \"c_stress\"]\n)\nmesh = mdo_chain.disciplines[0].io.data[\"yz_grid\"].reshape((-1, 2))\nsobol.main_method = \"total\"\nsobol.compute_indices()\nsobol.plot_field(\"c_displ\", mesh=mesh, save=False, show=True)\nsobol.plot_field(\"c_stress\", mesh=mesh, save=False, show=True)"
      ]
    }
  ],
  "metadata": {
    "kernelspec": {
      "display_name": "Python 3",
      "language": "python",
      "name": "python3"
    },
    "language_info": {
      "codemirror_mode": {
        "name": "ipython",
        "version": 3
      },
      "file_extension": ".py",
      "mimetype": "text/x-python",
      "name": "python",
      "nbconvert_exporter": "python",
      "pygments_lexer": "ipython3",
      "version": "3.12.10"
    }
  },
  "nbformat": 4,
  "nbformat_minor": 0
}