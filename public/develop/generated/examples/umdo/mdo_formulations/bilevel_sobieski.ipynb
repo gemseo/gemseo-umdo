{
  "cells": [
    {
      "cell_type": "code",
      "execution_count": null,
      "metadata": {
        "collapsed": false
      },
      "outputs": [],
      "source": [
        "%matplotlib inline"
      ]
    },
    {
      "cell_type": "markdown",
      "metadata": {},
      "source": [
        "BiLevel applied to the SSBJ problem.\n\nThis example illustrates the use of the ``BiLevel`` formulation\nto solve the\n[Sobieski's SSBJ problem](https://gemseo.readthedocs.io/en/stable/problems/index.html#sobieski-s-ssbj-test-case)\nunder uncertainty.\n\nThe shared design variables are uncertain\nand so are the objective and the constraints.\nThe uncertain objective is then made deterministic using the mean as a statistic\nand the same for the constraints using margins of the form\n\"mean + twice standard deviation\".\n"
      ]
    },
    {
      "cell_type": "code",
      "execution_count": null,
      "metadata": {
        "collapsed": false
      },
      "outputs": [],
      "source": [
        "from __future__ import annotations\n\nfrom gemseo import configure\nfrom gemseo import configure_logger\nfrom gemseo.algos.opt.nlopt.settings.nlopt_cobyla_settings import NLOPT_COBYLA_Settings\nfrom gemseo.algos.opt.nlopt.settings.nlopt_slsqp_settings import NLOPT_SLSQP_Settings\nfrom gemseo.algos.opt.scipy_local.settings.slsqp import SLSQP_Settings\nfrom gemseo.algos.parameter_space import ParameterSpace\nfrom gemseo.problems.mdo.sobieski.core.problem import SobieskiProblem\nfrom gemseo.problems.mdo.sobieski.disciplines import SobieskiAerodynamics\nfrom gemseo.problems.mdo.sobieski.disciplines import SobieskiMission\nfrom gemseo.problems.mdo.sobieski.disciplines import SobieskiPropulsion\nfrom gemseo.problems.mdo.sobieski.disciplines import SobieskiStructure\nfrom gemseo.scenarios.mdo_scenario import MDOScenario\nfrom matplotlib import pyplot as plt\nfrom numpy import atleast_2d\n\nfrom gemseo_umdo.disciplines.utils import create_noising_discipline_chain\nfrom gemseo_umdo.formulations.sampling_settings import Sampling_Settings\nfrom gemseo_umdo.scenarios.umdo_scenario import UMDOScenario\n\nconfigure_logger()\nconfigure(False, False, True, False, False, False, False)"
      ]
    },
    {
      "cell_type": "markdown",
      "metadata": {},
      "source": [
        "## Original discipline and spaces\n\nFirst,\nwe create the disciplines:\n\n"
      ]
    },
    {
      "cell_type": "code",
      "execution_count": null,
      "metadata": {
        "collapsed": false
      },
      "outputs": [],
      "source": [
        "mission = SobieskiMission()\nstructure = SobieskiStructure()\npropulsion = SobieskiPropulsion()\naerodynamics = SobieskiAerodynamics()"
      ]
    },
    {
      "cell_type": "markdown",
      "metadata": {},
      "source": [
        "the design space:\n\n"
      ]
    },
    {
      "cell_type": "code",
      "execution_count": null,
      "metadata": {
        "collapsed": false
      },
      "outputs": [],
      "source": [
        "design_space = SobieskiProblem().design_space"
      ]
    },
    {
      "cell_type": "markdown",
      "metadata": {},
      "source": [
        "an MDF-formulated scenario without uncertainties\n\n"
      ]
    },
    {
      "cell_type": "code",
      "execution_count": null,
      "metadata": {
        "collapsed": false
      },
      "outputs": [],
      "source": [
        "mdf_scenario = MDOScenario(\n    [aerodynamics, propulsion, structure, mission],\n    \"y_4\",\n    design_space,\n    formulation_name=\"MDF\",\n    maximize_objective=True,\n)\nmdf_scenario.add_constraint(\"g_1\", constraint_type=\"ineq\")\nmdf_scenario.add_constraint(\"g_2\", constraint_type=\"ineq\")\nmdf_scenario.add_constraint(\"g_3\", constraint_type=\"ineq\")"
      ]
    },
    {
      "cell_type": "markdown",
      "metadata": {},
      "source": [
        "and solve it using the gradient-based SLSQP algorithm:\n\n"
      ]
    },
    {
      "cell_type": "code",
      "execution_count": null,
      "metadata": {
        "collapsed": false
      },
      "outputs": [],
      "source": [
        "slsqp_settings = NLOPT_SLSQP_Settings(max_iter=100, ineq_tolerance=1e-3)\nmdf_scenario.execute(algo_settings_model=slsqp_settings)"
      ]
    },
    {
      "cell_type": "markdown",
      "metadata": {},
      "source": [
        "In what follows,\nwe will solve MDO problems under uncertainties\nfrom this uncertainty-free optimum $x_{\\text{shared}}^*$:\n\n"
      ]
    },
    {
      "cell_type": "code",
      "execution_count": null,
      "metadata": {
        "collapsed": false
      },
      "outputs": [],
      "source": [
        "x_opt_as_dict = mdf_scenario.get_result().optimization_result.x_opt_as_dict"
      ]
    },
    {
      "cell_type": "markdown",
      "metadata": {},
      "source": [
        "For that,\nwe define the uncertain vector noising the shared design variables\nby means of a centered Gaussian vector\nwith standard deviation $\\sigma$ equal to $0.05x_{\\text{shared}}^*/3$\nand restricted to the interval $[-3\\sigma,3\\sigma]$:\n\n"
      ]
    },
    {
      "cell_type": "code",
      "execution_count": null,
      "metadata": {
        "collapsed": false
      },
      "outputs": [],
      "source": [
        "sigma = 0.05 * x_opt_as_dict[\"x_shared\"] / 3\nuncertain_space = ParameterSpace()\nuncertain_space.add_random_vector(\n    \"u_x_shared\",\n    \"OTNormalDistribution\",\n    sigma=sigma.tolist(),\n    lower_bound=(-3 * sigma).tolist(),\n    upper_bound=(3 * sigma).tolist(),\n)"
      ]
    },
    {
      "cell_type": "markdown",
      "metadata": {},
      "source": [
        "Now,\nwe can use the disciplines, design space and uncertain space\nto solve the Sobieski's SSBJ problem under uncertainty.\nMore precisely,\nwe will solve the U-MDO problem\nnot only with the ``BiLevel`` formulation but also with the ``MDF`` one\nto show the difference in nature between these formulations\nand highlight the characteristics of ``BiLevel``.\n\nThe optimization algorithms will use a maximum of 100 iterations\nand the expectation will be estimated from 30 samples:\n\n"
      ]
    },
    {
      "cell_type": "code",
      "execution_count": null,
      "metadata": {
        "collapsed": false
      },
      "outputs": [],
      "source": [
        "max_iter = 100\nn_samples = 30"
      ]
    },
    {
      "cell_type": "markdown",
      "metadata": {},
      "source": [
        "## MDF\n\nWe solve the U-MDO problem using the ``MDF`` formulation\nfrom the uncertain-free optimum:\n\n"
      ]
    },
    {
      "cell_type": "code",
      "execution_count": null,
      "metadata": {
        "collapsed": false
      },
      "outputs": [],
      "source": [
        "design_space = SobieskiProblem().design_space\nfor k, v in x_opt_as_dict.items():\n    design_space.set_current_variable(k, v)\nmdf_uscenario = UMDOScenario(\n    [aerodynamics, propulsion, structure, mission],\n    \"y_4\",\n    design_space,\n    uncertain_space,\n    \"Mean\",\n    Sampling_Settings(n_samples=n_samples, estimate_statistics_iteratively=False),\n    maximize_objective=True,\n    uncertain_design_variables={\"x_shared\": (\"+\", \"u_x_shared\")},\n    formulation_name=\"MDF\",\n)\nmdf_uscenario.add_constraint(\"g_1\", \"Margin\")\nmdf_uscenario.add_constraint(\"g_2\", \"Margin\")\nmdf_uscenario.add_constraint(\"g_3\", \"Margin\")"
      ]
    },
    {
      "cell_type": "markdown",
      "metadata": {},
      "source": [
        "and solve it using the gradient-based SLSQP algorithm:\n\n"
      ]
    },
    {
      "cell_type": "code",
      "execution_count": null,
      "metadata": {
        "collapsed": false
      },
      "outputs": [],
      "source": [
        "slsqp_settings = SLSQP_Settings(max_iter=max_iter, ineq_tolerance=1e-3)\nmdf_uscenario.execute(algo_settings_model=slsqp_settings)"
      ]
    },
    {
      "cell_type": "markdown",
      "metadata": {},
      "source": [
        "We can see that\nthe solution is more conservative than in the absence of uncertainty,\nwith a smaller range and a smaller wing taper ratio ``\"x_1[0]\"``.\n\n## BiLevel\n\nWe solve the U-MDO problem using the ``BiLevel`` formulation\nfrom the same initial point:\n\n"
      ]
    },
    {
      "cell_type": "code",
      "execution_count": null,
      "metadata": {
        "collapsed": false
      },
      "outputs": [],
      "source": [
        "design_space = SobieskiProblem().design_space\nfor k, v in x_opt_as_dict.items():\n    design_space.set_current_variable(k, v)"
      ]
    },
    {
      "cell_type": "markdown",
      "metadata": {},
      "source": [
        "### Noising disciplines chain\nIn the case of the ``MDF`` formulation,\nwe set ``uncertain_design_variables`` to ``{\"x_shared\": (\"+\", \"u_x_shared\")}``\nto rename the variable ``\"x_shared\"`` into ``\"dv_x_shared\"`` automatically.\nIn this way,\n[UDMOScenario][gemseo_umdo.scenarios.umdo_scenario.UMDOScenario]\nis able to propagate the uncertainty ``\"u_x_shared\"``\nthrough the multidisciplinary process\nusing the expression\n$x_{\\text{shared}}=dv_{x_{\\text{shared}}}+u_{x_{\\text{shared}}}$.\nUnfortunately,\nthis automation cannot work for MDO formulations using sub-scenarios\nbecause their multidisciplinary processes do not know\nthe variables ``\"dv_x_shared\"`` and ``\"u_x_shared\"``\nand cannot be modified.\nIn this case,\nwe cannot use the argument ``uncertain_design_variables``\nbut we can create a chain of noising disciplines\nto be added to the disciplines used to create the sub-scenarios:\n\n"
      ]
    },
    {
      "cell_type": "code",
      "execution_count": null,
      "metadata": {
        "collapsed": false
      },
      "outputs": [],
      "source": [
        "noising_discipline_chain = create_noising_discipline_chain(\n    design_space, {\"x_shared\": (\"+\", \"u_x_shared\")}\n)"
      ]
    },
    {
      "cell_type": "markdown",
      "metadata": {},
      "source": [
        "### Sub-scenarios\n\nFirst,\nwe create three sub-scenarios,\nnamely the one to maximize the objective function\nwith respect to the design variable specific to the aerodynamics\nusing the gradient-based SLSQP algorithm:\n\n"
      ]
    },
    {
      "cell_type": "code",
      "execution_count": null,
      "metadata": {
        "collapsed": false
      },
      "outputs": [],
      "source": [
        "scenario_aerodynamics = MDOScenario(\n    [noising_discipline_chain, aerodynamics, mission],\n    \"y_4\",\n    design_space.filter(\"x_2\", copy=True),\n    formulation_name=\"MDF\",\n    maximize_objective=True,\n)\nscenario_aerodynamics.add_constraint(\"g_2\", constraint_type=\"ineq\")\nscenario_aerodynamics.set_algorithm(algo_settings_model=slsqp_settings)"
      ]
    },
    {
      "cell_type": "markdown",
      "metadata": {},
      "source": [
        "the one to maximize the objective function\nwith respect to the design variable specific to the propulsion\nusing the gradient-based SLSQP algorithm:\n\n"
      ]
    },
    {
      "cell_type": "code",
      "execution_count": null,
      "metadata": {
        "collapsed": false
      },
      "outputs": [],
      "source": [
        "scenario_propulsion = MDOScenario(\n    [noising_discipline_chain, propulsion, mission],\n    \"y_4\",\n    design_space.filter(\"x_3\", copy=True),\n    formulation_name=\"MDF\",\n    maximize_objective=True,\n)\nscenario_propulsion.add_constraint(\"g_3\", constraint_type=\"ineq\")\nscenario_propulsion.set_algorithm(algo_settings_model=slsqp_settings)"
      ]
    },
    {
      "cell_type": "markdown",
      "metadata": {},
      "source": [
        "and the one to maximize the objective function\nwith respect to the design variable specific to the structure\nusing the gradient-based SLSQP algorithm:\n\n"
      ]
    },
    {
      "cell_type": "code",
      "execution_count": null,
      "metadata": {
        "collapsed": false
      },
      "outputs": [],
      "source": [
        "scenario_structure = MDOScenario(\n    [noising_discipline_chain, structure, mission],\n    \"y_4\",\n    design_space.filter(\"x_1\", copy=True),\n    formulation_name=\"MDF\",\n    maximize_objective=True,\n)\nscenario_structure.add_constraint(\"g_1\", constraint_type=\"ineq\")\nscenario_structure.set_algorithm(algo_settings_model=slsqp_settings)"
      ]
    },
    {
      "cell_type": "markdown",
      "metadata": {},
      "source": [
        "### Main scenario\n\nThen,\nwe create the main scenario from this sub-scenarios\nto maximize the mean of the objective function\nwith respect to the global design variables ``\"dv_x_shared\"``\nand under equality constraints set as margins:\n\n"
      ]
    },
    {
      "cell_type": "code",
      "execution_count": null,
      "metadata": {
        "collapsed": false
      },
      "outputs": [],
      "source": [
        "bilevel_uscenario = UMDOScenario(\n    [scenario_aerodynamics, scenario_propulsion, scenario_structure],\n    \"y_4\",\n    design_space.filter(\"dv_x_shared\", copy=True),\n    uncertain_space,\n    \"Mean\",\n    Sampling_Settings(n_samples=n_samples),\n    formulation_name=\"BiLevel\",\n    keep_opt_history=False,\n    maximize_objective=True,\n)\nbilevel_uscenario.add_constraint(\"g_1\", \"Margin\")\nbilevel_uscenario.add_constraint(\"g_2\", \"Margin\")\nbilevel_uscenario.add_constraint(\"g_3\", \"Margin\")"
      ]
    },
    {
      "cell_type": "markdown",
      "metadata": {},
      "source": [
        "and solve the MDO problem using the gradient-free COBYLA algorithm:\n\n"
      ]
    },
    {
      "cell_type": "code",
      "execution_count": null,
      "metadata": {
        "collapsed": false
      },
      "outputs": [],
      "source": [
        "bilevel_uscenario.execute(\n    algo_settings_model=NLOPT_COBYLA_Settings(max_iter=max_iter, ineq_tolerance=1e-3)\n)"
      ]
    },
    {
      "cell_type": "markdown",
      "metadata": {},
      "source": [
        "## Results\nIn this last section,\nwe will compare ``MDF`` and ``BiLevel`` in terms of results.\n\nFirst,\nwe can have a look at the optimum solution in terms of global design variables:\n\n"
      ]
    },
    {
      "cell_type": "code",
      "execution_count": null,
      "metadata": {
        "collapsed": false
      },
      "outputs": [],
      "source": [
        "mdf_x_opt = mdf_uscenario.optimization_result.x_opt\nbilevel_x_opt = bilevel_uscenario.optimization_result.x_opt"
      ]
    },
    {
      "cell_type": "markdown",
      "metadata": {},
      "source": [
        "for ``MDF``:\n\n"
      ]
    },
    {
      "cell_type": "code",
      "execution_count": null,
      "metadata": {
        "collapsed": false
      },
      "outputs": [],
      "source": [
        "mdf_x_opt[0]\n# 0.29, 0.75, 0.75, 0.14, 0.06, 60000, 1.4, 2.5, 70, 1500"
      ]
    },
    {
      "cell_type": "markdown",
      "metadata": {},
      "source": [
        "for ``BiLevel``:\n\n"
      ]
    },
    {
      "cell_type": "code",
      "execution_count": null,
      "metadata": {
        "collapsed": false
      },
      "outputs": [],
      "source": [
        "bilevel_x_opt[0]\n# 0.06, 59762.5, 1.4, 2.5, 69.75, 1492.5"
      ]
    },
    {
      "cell_type": "markdown",
      "metadata": {},
      "source": [
        "The solutions are close in terms of global design variables.\n\nThen,\nwe can have a look at the optimum solution in terms of mean objective:\n\n"
      ]
    },
    {
      "cell_type": "code",
      "execution_count": null,
      "metadata": {
        "collapsed": false
      },
      "outputs": [],
      "source": [
        "mdf_f_opt = mdf_uscenario.optimization_result.f_opt\nbilevel_f_opt = bilevel_uscenario.optimization_result.f_opt"
      ]
    },
    {
      "cell_type": "markdown",
      "metadata": {},
      "source": [
        "for ``MDF``:\n\n"
      ]
    },
    {
      "cell_type": "code",
      "execution_count": null,
      "metadata": {
        "collapsed": false
      },
      "outputs": [],
      "source": [
        "mdf_f_opt\n# -3844.6"
      ]
    },
    {
      "cell_type": "markdown",
      "metadata": {},
      "source": [
        "for ``BiLevel``:\n\n"
      ]
    },
    {
      "cell_type": "code",
      "execution_count": null,
      "metadata": {
        "collapsed": false
      },
      "outputs": [],
      "source": [
        "bilevel_f_opt\n# -3886.6"
      ]
    },
    {
      "cell_type": "markdown",
      "metadata": {},
      "source": [
        "The ``BiLevel`` solution seems to be better than the ``MDF`` one.\n\nFinally,\nwe execute the ``BiLevel`` formulation at the bi-level optimum,\ntaking care to save the samples with the option ``estimate_statistics_iteratively``:\n\n"
      ]
    },
    {
      "cell_type": "code",
      "execution_count": null,
      "metadata": {
        "collapsed": false
      },
      "outputs": [],
      "source": [
        "bilevel_uscenario = UMDOScenario(\n    [scenario_aerodynamics, scenario_propulsion, scenario_structure],\n    \"y_4\",\n    design_space.filter(\"dv_x_shared\", copy=True),\n    uncertain_space,\n    \"Mean\",\n    Sampling_Settings(n_samples=n_samples),\n    formulation_name=\"BiLevel\",\n    maximize_objective=True,\n    save_opt_history=False,\n)\nbilevel_uscenario.add_constraint(\"g_1\", \"Mean\")\nbilevel_uscenario.add_constraint(\"g_2\", \"Mean\")\nbilevel_uscenario.add_constraint(\"g_3\", \"Mean\")\nbilevel_uscenario.execute(algo_name=\"CustomDOE\", samples=atleast_2d(bilevel_x_opt))"
      ]
    },
    {
      "cell_type": "markdown",
      "metadata": {},
      "source": [
        "which generates samples\n$\\left(y_4\\!\\left(dv_{x_{\\text{shared}}}^*,u_{x_{\\text{shared}}}^{(i)}\\right)\\right)_{1\\leq i \\leq N}$:\n\n"
      ]
    },
    {
      "cell_type": "code",
      "execution_count": null,
      "metadata": {
        "collapsed": false
      },
      "outputs": [],
      "source": [
        "database = bilevel_uscenario.formulation.mdo_formulation.optimization_problem.database\nf_samples = -database.get_function_history(\"y_4\").ravel()"
      ]
    },
    {
      "cell_type": "markdown",
      "metadata": {},
      "source": [
        "that we can plot using a histogram:\n\n"
      ]
    },
    {
      "cell_type": "code",
      "execution_count": null,
      "metadata": {
        "collapsed": false
      },
      "outputs": [],
      "source": [
        "plt.boxplot(-f_samples, vert=False)\nplt.plot(-mdf_f_opt, 1, \"bo\", label=r\"$f^*(MDF)$\")\nplt.plot(-bilevel_f_opt, 1, \"rs\", label=r\"$f^*(BiLevel)$\")\nplt.xlabel(\"f\")\nplt.grid()\nplt.legend()\nplt.savefig(\"bilevel_sobieski.png\")"
      ]
    },
    {
      "cell_type": "markdown",
      "metadata": {},
      "source": [
        "![ ](../../../../images/bilevel_sobieski.png)\n\nWe can see that,\non average,\nthe ``BiLevel`` solution in red is better than the ``MDF`` solution in blue\nas mentioned above.\nOn the other hand,\nthere are realizations of $u_{x_{shared}}$ for which the solution could be even better.\nThis is one of the advantages of using the ``BiLevel`` formulation under uncertainty:\nchoosing the global design variable values now,\nand leave ourselves time to choose those of the local design variables,\nin the hope that, in the future,\nthe uncertainties will decrease and lead us to an even more favorable solution.\n\nFinally,\nthese results need to be refined,\nby adjusting the number of samples and by playing with the tolerances' thresholds.\n\n"
      ]
    }
  ],
  "metadata": {
    "kernelspec": {
      "display_name": "Python 3",
      "language": "python",
      "name": "python3"
    },
    "language_info": {
      "codemirror_mode": {
        "name": "ipython",
        "version": 3
      },
      "file_extension": ".py",
      "mimetype": "text/x-python",
      "name": "python",
      "nbconvert_exporter": "python",
      "pygments_lexer": "ipython3",
      "version": "3.9.22"
    }
  },
  "nbformat": 4,
  "nbformat_minor": 0
}